{
 "cells": [
  {
   "cell_type": "code",
   "execution_count": 1,
   "metadata": {},
   "outputs": [],
   "source": [
    "import numpy as np"
   ]
  },
  {
   "cell_type": "code",
   "execution_count": 11,
   "metadata": {},
   "outputs": [],
   "source": [
    "english_score = np.array([55,89,76,65,48,70])\n",
    "\n",
    "math_score = np.array([60,85,60,68,np.nan,60])\n",
    "\n",
    "chinese_score = np.array([65,90,82,72,66,77])"
   ]
  },
  {
   "cell_type": "code",
   "execution_count": 12,
   "metadata": {},
   "outputs": [
    {
     "name": "stdout",
     "output_type": "stream",
     "text": [
      "英文平均： 67.16666666666667\n",
      "數學平均： 66.6\n",
      "國文平均： 75.33333333333333\n"
     ]
    }
   ],
   "source": [
    "print(\"英文平均：\", np.nanmean(english_score))\n",
    "print(\"數學平均：\", np.nanmean(math_score))\n",
    "print(\"國文平均：\", np.nanmean(chinese_score))"
   ]
  },
  {
   "cell_type": "code",
   "execution_count": 13,
   "metadata": {},
   "outputs": [
    {
     "name": "stdout",
     "output_type": "stream",
     "text": [
      "英文最高分： 89 英文最高分： 48\n",
      "數學最高分： 85.0 數學最高分： 60.0\n",
      "國文最高分： 90 國文最高分： 65\n"
     ]
    }
   ],
   "source": [
    "print(\"英文最高分：\", np.nanmax(english_score),\"英文最高分：\", np.nanmin(english_score))\n",
    "print(\"數學最高分：\", np.nanmax(math_score),\"數學最高分：\", np.nanmin(math_score))\n",
    "print(\"國文最高分：\", np.nanmax(chinese_score),\"國文最高分：\", np.nanmin(chinese_score))"
   ]
  },
  {
   "cell_type": "code",
   "execution_count": 14,
   "metadata": {},
   "outputs": [
    {
     "name": "stdout",
     "output_type": "stream",
     "text": [
      "英文標準差： 13.433995020924426\n",
      "數學標準差： 9.707728879609279\n",
      "國文標準差： 8.825468196582484\n"
     ]
    }
   ],
   "source": [
    "print(\"英文標準差：\", np.nanstd(english_score))\n",
    "print(\"數學標準差：\", np.nanstd(math_score))\n",
    "print(\"國文標準差：\", np.nanstd(chinese_score))"
   ]
  },
  {
   "cell_type": "code",
   "execution_count": 16,
   "metadata": {},
   "outputs": [
    {
     "name": "stdout",
     "output_type": "stream",
     "text": [
      "數學平均： 64.66666666666667\n"
     ]
    }
   ],
   "source": [
    "math_score[4]=55\n",
    "print(\"數學平均：\", np.mean(math_score))"
   ]
  },
  {
   "cell_type": "code",
   "execution_count": 29,
   "metadata": {},
   "outputs": [
    {
     "data": {
      "text/plain": [
       "array([[1.        , 0.74056803],\n",
       "       [0.74056803, 1.        ]])"
      ]
     },
     "execution_count": 29,
     "metadata": {},
     "output_type": "execute_result"
    }
   ],
   "source": [
    "chvsma=np.corrcoef(chinese_score,math_score)\n",
    "chvsma"
   ]
  },
  {
   "cell_type": "code",
   "execution_count": 36,
   "metadata": {},
   "outputs": [
    {
     "data": {
      "text/plain": [
       "array([[1.        , 0.97792828],\n",
       "       [0.97792828, 1.        ]])"
      ]
     },
     "execution_count": 36,
     "metadata": {},
     "output_type": "execute_result"
    }
   ],
   "source": [
    "chvsen=np.corrcoef(chinese_score,english_score)\n",
    "chvsen"
   ]
  }
 ],
 "metadata": {
  "kernelspec": {
   "display_name": "Python 3",
   "language": "python",
   "name": "python3"
  },
  "language_info": {
   "codemirror_mode": {
    "name": "ipython",
    "version": 3
   },
   "file_extension": ".py",
   "mimetype": "text/x-python",
   "name": "python",
   "nbconvert_exporter": "python",
   "pygments_lexer": "ipython3",
   "version": "3.8.5"
  }
 },
 "nbformat": 4,
 "nbformat_minor": 4
}
